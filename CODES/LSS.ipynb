{
  "nbformat": 4,
  "nbformat_minor": 0,
  "metadata": {
    "colab": {
      "provenance": [],
      "include_colab_link": true
    },
    "kernelspec": {
      "name": "python3",
      "display_name": "Python 3"
    },
    "language_info": {
      "name": "python"
    }
  },
  "cells": [
    {
      "cell_type": "markdown",
      "metadata": {
        "id": "view-in-github",
        "colab_type": "text"
      },
      "source": [
        "<a href=\"https://colab.research.google.com/github/themysterysolver/QR-CIP/blob/main/CODES/LSS.ipynb\" target=\"_parent\"><img src=\"https://colab.research.google.com/assets/colab-badge.svg\" alt=\"Open In Colab\"/></a>"
      ]
    },
    {
      "cell_type": "code",
      "execution_count": null,
      "metadata": {
        "id": "x4LPm7eJaE5c"
      },
      "outputs": [],
      "source": [
        "import numpy as np\n",
        "import hashlib"
      ]
    },
    {
      "cell_type": "code",
      "source": [
        "ss=\"Helloww world!\"\n",
        "print(ss.encode(),type(ss.encode()))"
      ],
      "metadata": {
        "colab": {
          "base_uri": "https://localhost:8080/"
        },
        "id": "pIo69wBpaJ7A",
        "outputId": "5dae16ed-501a-4550-bed9-3083c956521b"
      },
      "execution_count": null,
      "outputs": [
        {
          "output_type": "stream",
          "name": "stdout",
          "text": [
            "b'Helloww world!' <class 'bytes'>\n"
          ]
        }
      ]
    },
    {
      "cell_type": "code",
      "source": [
        "sha=hashlib.sha256(ss.encode()).hexdigest()\n",
        "print(sha)\n",
        "hash_n=sha[:8]\n",
        "print(hash_n)"
      ],
      "metadata": {
        "colab": {
          "base_uri": "https://localhost:8080/"
        },
        "id": "9JUMRWV-bYfv",
        "outputId": "412cff2f-4ce9-47d6-85ad-e350ada22f7d"
      },
      "execution_count": null,
      "outputs": [
        {
          "output_type": "stream",
          "name": "stdout",
          "text": [
            "3c70ac6806bdce28a103fe2b3a5a6d72bd2598b730532494b2f3627d1fcbe2ee\n",
            "3c70ac68\n"
          ]
        }
      ]
    },
    {
      "cell_type": "code",
      "source": [
        "hash_d=int(hash_n,16)/2**32\n",
        "print(hash_d)"
      ],
      "metadata": {
        "colab": {
          "base_uri": "https://localhost:8080/"
        },
        "id": "VE0qi9g1cH3Y",
        "outputId": "98b4a2a9-9c26-4771-f8cc-4659e7c627f3"
      },
      "execution_count": null,
      "outputs": [
        {
          "output_type": "stream",
          "name": "stdout",
          "text": [
            "0.2360942605882883\n"
          ]
        }
      ]
    },
    {
      "cell_type": "code",
      "source": [
        "x=hash_d\n",
        "r=3.69"
      ],
      "metadata": {
        "id": "yy4-xY-9cSGe"
      },
      "execution_count": null,
      "outputs": []
    },
    {
      "cell_type": "code",
      "source": [
        "X=[0]*16 #np.zeros()\n",
        "X[0]=x\n",
        "print(x,X[0])"
      ],
      "metadata": {
        "colab": {
          "base_uri": "https://localhost:8080/"
        },
        "id": "j81OTqsNcX-k",
        "outputId": "b1767cb2-dd3a-4221-d000-e02b0a04278c"
      },
      "execution_count": null,
      "outputs": [
        {
          "output_type": "stream",
          "name": "stdout",
          "text": [
            "0.2360942605882883 0.2360942605882883\n"
          ]
        }
      ]
    },
    {
      "cell_type": "code",
      "source": [
        "for i in range(1,16):\n",
        "  #print(i,X[i-1])\n",
        "  X[i]=r*X[i-1]*(1-X[i-1])\n",
        "print(X)"
      ],
      "metadata": {
        "colab": {
          "base_uri": "https://localhost:8080/"
        },
        "id": "hpH7V51rcjNu",
        "outputId": "2aed9438-80aa-48da-f2f4-eeb3fa590121"
      },
      "execution_count": null,
      "outputs": [
        {
          "output_type": "stream",
          "name": "stdout",
          "text": [
            "[0.2360942605882883, 0.665505377003508, 0.8214234099749995, 0.54127499870896, 0.916213621837013, 0.28326735548009563, 0.7491694853498184, 0.6934047543351695, 0.7844740776920396, 0.623884901757462, 0.8658678398200472, 0.42855927076817124, 0.9036670599431825, 0.32122521840509194, 0.804566040848407, 0.5802138537515088]\n"
          ]
        }
      ]
    },
    {
      "cell_type": "code",
      "source": [
        "chaotic_indices = np.argsort(X)\n",
        "print(chaotic_indices)"
      ],
      "metadata": {
        "colab": {
          "base_uri": "https://localhost:8080/"
        },
        "id": "z3ifCF6RdZd5",
        "outputId": "c6c72a7c-0b7a-4678-f09c-8f35bf2cceaf"
      },
      "execution_count": null,
      "outputs": [
        {
          "output_type": "stream",
          "name": "stdout",
          "text": [
            "[ 0  5 13 11  3 15  9  1  7  6  8 14  2 10 12  4]\n"
          ]
        }
      ]
    },
    {
      "cell_type": "code",
      "source": [],
      "metadata": {
        "id": "pcTUP94Kd54Z"
      },
      "execution_count": null,
      "outputs": []
    }
  ]
}