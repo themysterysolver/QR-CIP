{
  "nbformat": 4,
  "nbformat_minor": 0,
  "metadata": {
    "colab": {
      "provenance": [],
      "authorship_tag": "ABX9TyO4DprDjcx8hXMYiIFrFzdZ",
      "include_colab_link": true
    },
    "kernelspec": {
      "name": "python3",
      "display_name": "Python 3"
    },
    "language_info": {
      "name": "python"
    }
  },
  "cells": [
    {
      "cell_type": "markdown",
      "metadata": {
        "id": "view-in-github",
        "colab_type": "text"
      },
      "source": [
        "<a href=\"https://colab.research.google.com/github/themysterysolver/QR-CIP/blob/main/CODE/QR_MODULE_1.ipynb\" target=\"_parent\"><img src=\"https://colab.research.google.com/assets/colab-badge.svg\" alt=\"Open In Colab\"/></a>"
      ]
    },
    {
      "cell_type": "code",
      "source": [
        "!pip install qrcode"
      ],
      "metadata": {
        "id": "INXi5V97wT5f"
      },
      "execution_count": null,
      "outputs": []
    },
    {
      "cell_type": "code",
      "source": [
        "!pip install opencv-python"
      ],
      "metadata": {
        "id": "erUbXugnwdKU"
      },
      "execution_count": null,
      "outputs": []
    },
    {
      "cell_type": "code",
      "execution_count": 4,
      "metadata": {
        "id": "Tl9SKGcHuKs-"
      },
      "outputs": [],
      "source": [
        "import numpy as np\n",
        "import matplotlib.pyplot as plt\n",
        "from IPython.display import display\n",
        "import random\n",
        "import cv2\n",
        "from google.colab.patches import cv2_imshow\n",
        "random.seed(404)"
      ]
    },
    {
      "cell_type": "code",
      "source": [
        "def divide_qr():\n",
        "  pass\n",
        "def scramble_qr():\n",
        "  pass\n",
        "def descramble_qr():\n",
        "  pass\n",
        "def rebuild_matrix():\n",
        "  pass\n",
        "def dsiplay_mat_QR():\n",
        "  pass\n",
        "if __name__==\"__main__\":\n",
        "  pass"
      ],
      "metadata": {
        "id": "2AjF3RMGwjOE"
      },
      "execution_count": null,
      "outputs": []
    }
  ]
}