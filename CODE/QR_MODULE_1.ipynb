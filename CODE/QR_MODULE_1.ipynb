{
  "nbformat": 4,
  "nbformat_minor": 0,
  "metadata": {
    "colab": {
      "provenance": [],
      "authorship_tag": "ABX9TyOqRGsezagVFD4i8AHDdXyR",
      "include_colab_link": true
    },
    "kernelspec": {
      "name": "python3",
      "display_name": "Python 3"
    },
    "language_info": {
      "name": "python"
    }
  },
  "cells": [
    {
      "cell_type": "markdown",
      "metadata": {
        "id": "view-in-github",
        "colab_type": "text"
      },
      "source": [
        "<a href=\"https://colab.research.google.com/github/themysterysolver/QR-CIP/blob/main/CODE/QR_MODULE_1.ipynb\" target=\"_parent\"><img src=\"https://colab.research.google.com/assets/colab-badge.svg\" alt=\"Open In Colab\"/></a>"
      ]
    },
    {
      "cell_type": "code",
      "source": [
        "!pip install qrcode"
      ],
      "metadata": {
        "id": "INXi5V97wT5f"
      },
      "execution_count": null,
      "outputs": []
    },
    {
      "cell_type": "code",
      "source": [
        "!pip install opencv-python"
      ],
      "metadata": {
        "id": "erUbXugnwdKU"
      },
      "execution_count": null,
      "outputs": []
    },
    {
      "cell_type": "code",
      "execution_count": 6,
      "metadata": {
        "id": "Tl9SKGcHuKs-"
      },
      "outputs": [],
      "source": [
        "import numpy as np\n",
        "import matplotlib.pyplot as plt\n",
        "from IPython.display import display\n",
        "import random\n",
        "import cv2\n",
        "from google.colab.patches import cv2_imshow\n",
        "import qrcode\n",
        "\n",
        "random.seed(404)"
      ]
    },
    {
      "cell_type": "code",
      "source": [
        "def divide_qr(path):\n",
        "  divided_grid=[]\n",
        "  img=cv2.imread(path,cv2.IMREAD_GRAYSCALE)\n",
        "  if img is None:\n",
        "    print('ERROR: IMAGE NOT FOUND')\n",
        "    return\n",
        "  if img.shape[0]%4!=0 or img.shape[1]%4!=0:\n",
        "    img=cv2.resize(img,(400,400))\n",
        "  small_grid_size=img.shape[0]//4\n",
        "  for i in range(4):\n",
        "    for j in range(4):\n",
        "      small_grid=img[i*small_grid_size:(i+1)*small_grid_size,j*small_grid_size:(j+1)*small_grid_size]\n",
        "      divided_grid.append(small_grid)\n",
        "  return np.array(divided_grid)\n",
        "\n",
        "def generate_matrix():\n",
        "  return\n",
        "def scramble_qr(scrambled_blocks,permutation):\n",
        "  return\n",
        "def descramble_qr():\n",
        "  return\n",
        "def rebuild_matrix(to_rebuild_matrix):\n",
        "  rows=[]\n",
        "  for i in range(4):\n",
        "    rows.append(np.hstack(to_rebuild_matrix[i*4:(i+1)*4]))\n",
        "  return np.vstack(rows)\n",
        "\n",
        "def display_mat_QR(mat):\n",
        "  mat=mat.astype(np.uint8)\n",
        "  cv2_imshow(mat)\n",
        "def permute(seed_string):# should be modified to include the logic of LSS\n",
        "  permutation=random.sample(range(0,16),16)\n",
        "  return permutation\n",
        "if __name__==\"__main__\":\n",
        "  #Initialisation\n",
        "  seed_string=\"\"\n",
        "  permutation=permute(seed_string)\n",
        "\n",
        "  my_string=\"AOT is a masterpiece!\"\n",
        "  qr=qrcode.make(my_string)\n",
        "\n",
        "  qr.save('qr.png')\n",
        "  path=\"/content/qr.png\"\n",
        "  #img=cv2.imread(path)\n",
        "\n",
        "  img=cv2.imread(path,cv2.IMREAD_GRAYSCALE)\n",
        "  if img.shape[0]%4!=0 or img.shape[1]%4!=0:\n",
        "    img=cv2.resize(img,(400,400))\n",
        "\n",
        "  size=img.shape[0]\n",
        "\n",
        "  #Dividing\n",
        "  divided_blocks=divide_qr(path)\n",
        "  print(divided_blocks.shape)\n",
        "\n",
        "  #Merging\n",
        "  orginal_img=rebuild_matrix(divided_blocks)\n",
        "  print(orginal_img.shape)\n",
        "\n",
        "  #Displaying\n",
        "  display_mat_QR(orginal_img)\n",
        "\n",
        "\n",
        "\n",
        "\n",
        ""
      ],
      "metadata": {
        "id": "2AjF3RMGwjOE"
      },
      "execution_count": null,
      "outputs": []
    },
    {
      "cell_type": "code",
      "source": [],
      "metadata": {
        "id": "CiZRsVdb1Nx4"
      },
      "execution_count": null,
      "outputs": []
    }
  ]
}