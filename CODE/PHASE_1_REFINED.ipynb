{
  "nbformat": 4,
  "nbformat_minor": 0,
  "metadata": {
    "colab": {
      "provenance": [],
      "authorship_tag": "ABX9TyN43u5F2ahC+b/SJLBfcwxk",
      "include_colab_link": true
    },
    "kernelspec": {
      "name": "python3",
      "display_name": "Python 3"
    },
    "language_info": {
      "name": "python"
    }
  },
  "cells": [
    {
      "cell_type": "markdown",
      "metadata": {
        "id": "view-in-github",
        "colab_type": "text"
      },
      "source": [
        "<a href=\"https://colab.research.google.com/github/themysterysolver/QR-CIP/blob/main/CODE/PHASE_1_REFINED.ipynb\" target=\"_parent\"><img src=\"https://colab.research.google.com/assets/colab-badge.svg\" alt=\"Open In Colab\"/></a>"
      ]
    },
    {
      "cell_type": "code",
      "execution_count": null,
      "metadata": {
        "id": "ihHkgKTikc8s"
      },
      "outputs": [],
      "source": [
        "!pip install numpy matplotlib opencv-python qrcode[pil] pycryptodome pillow"
      ]
    },
    {
      "cell_type": "code",
      "source": [
        "import numpy as np\n",
        "import matplotlib.pyplot as plt\n",
        "import cv2\n",
        "import qrcode\n",
        "import hashlib"
      ],
      "metadata": {
        "id": "og6EYhqykmY9"
      },
      "execution_count": 6,
      "outputs": []
    },
    {
      "cell_type": "markdown",
      "source": [
        "- `cv2` is a part of *openCV* ***computer vision library***"
      ],
      "metadata": {
        "id": "TdndMI-qk5_G"
      }
    },
    {
      "cell_type": "code",
      "source": [
        "def sha256_to_float(seed_string):\n",
        "    hash_digest = hashlib.sha256(seed_string.encode()).hexdigest()\n",
        "    print(hash_digest)\n",
        "    hash_n = hash_digest[:16]\n",
        "    return int(hash_n, 16) / 2**64"
      ],
      "metadata": {
        "id": "MGmhNntjBeMF"
      },
      "execution_count": 7,
      "outputs": []
    },
    {
      "cell_type": "code",
      "source": [
        "def lss_permutation(seed_string, n, r=3.9, s=3.0):#s is amplitutde,r-is logistic growth rate,pi-freq paramaeter\n",
        "    x = sha256_to_float(seed_string)\n",
        "    seq=[0]*n\n",
        "    seq[0]=x\n",
        "    for i in range(1,n):\n",
        "      seq[i]=((r*seq[i-1]*(1-seq[i-1])) + s*np.sin(np.pi*seq[i-1]))%1\n",
        "    permu_seq=np.argsort(seq)\n",
        "    return np.array(permu_seq)"
      ],
      "metadata": {
        "id": "aER69Jc5mc9j"
      },
      "execution_count": 8,
      "outputs": []
    },
    {
      "cell_type": "code",
      "source": [
        "if __name__ == \"__main__\":\n",
        "    sha256_input = input(\"Enter a string for SHA-256-based permutation:\")\n",
        "    n=16\n",
        "    permutation=lss_permutation(sha256_input,n)\n",
        "    print(permutation)\n",
        "\n",
        "    qr_input = input(\"Enter a string to generate a QR code: \")\n",
        "    qr=qrcode.make(qr_input)\n",
        "    qr.save(\"qr_code.png\")\n",
        "\n",
        "    img=cv2.imread(\"qr_code.png\")\n",
        "    print(img,img.shape)"
      ],
      "metadata": {
        "colab": {
          "base_uri": "https://localhost:8080/"
        },
        "id": "PkaAptbWlRbh",
        "outputId": "597d60f4-22af-48b8-f2c4-f61f28c1c35c"
      },
      "execution_count": 10,
      "outputs": [
        {
          "output_type": "stream",
          "name": "stdout",
          "text": [
            "Enter a string for SHA-256-based permutation:hello\n",
            "2cf24dba5fb0a30e26e83b2ac5b9e29e1b161e5c1fa7425e73043362938b9824\n",
            "[ 6  1  0 13  3 14  7  4 10 15  8 11  2 12  5  9]\n",
            "Enter a string to generate a QR code: wow\n",
            "[[[255 255 255]\n",
            "  [255 255 255]\n",
            "  [255 255 255]\n",
            "  ...\n",
            "  [255 255 255]\n",
            "  [255 255 255]\n",
            "  [255 255 255]]\n",
            "\n",
            " [[255 255 255]\n",
            "  [255 255 255]\n",
            "  [255 255 255]\n",
            "  ...\n",
            "  [255 255 255]\n",
            "  [255 255 255]\n",
            "  [255 255 255]]\n",
            "\n",
            " [[255 255 255]\n",
            "  [255 255 255]\n",
            "  [255 255 255]\n",
            "  ...\n",
            "  [255 255 255]\n",
            "  [255 255 255]\n",
            "  [255 255 255]]\n",
            "\n",
            " ...\n",
            "\n",
            " [[255 255 255]\n",
            "  [255 255 255]\n",
            "  [255 255 255]\n",
            "  ...\n",
            "  [255 255 255]\n",
            "  [255 255 255]\n",
            "  [255 255 255]]\n",
            "\n",
            " [[255 255 255]\n",
            "  [255 255 255]\n",
            "  [255 255 255]\n",
            "  ...\n",
            "  [255 255 255]\n",
            "  [255 255 255]\n",
            "  [255 255 255]]\n",
            "\n",
            " [[255 255 255]\n",
            "  [255 255 255]\n",
            "  [255 255 255]\n",
            "  ...\n",
            "  [255 255 255]\n",
            "  [255 255 255]\n",
            "  [255 255 255]]] (290, 290, 3)\n"
          ]
        }
      ]
    },
    {
      "cell_type": "markdown",
      "source": [
        "- That's how a `290*290*3` array look like,290 rows and column with 3 cols each for ***rgb***\n",
        "```\n",
        "[\n",
        "  [[255, 255, 255], [255, 255, 255], [255, 255, 255], ..., [255, 255, 255]],\n",
        "  [[255, 255, 255], [0, 0, 0], [0, 0, 0], ..., [255, 255, 255]],\n",
        "  [[255, 255, 255], [0, 0, 0], [0, 0, 0], ..., [255, 255, 255]],\n",
        "  ...,\n",
        "  [[255, 255, 255], [0, 0, 0], [0, 0, 0], ..., [255, 255, 255]]\n",
        "]\n",
        "```"
      ],
      "metadata": {
        "id": "MRRMzoohwdoc"
      }
    },
    {
      "cell_type": "code",
      "source": [],
      "metadata": {
        "id": "q6B5gUmqnMZn"
      },
      "execution_count": null,
      "outputs": []
    }
  ]
}