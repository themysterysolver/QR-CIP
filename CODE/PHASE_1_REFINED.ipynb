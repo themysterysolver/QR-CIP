{
  "nbformat": 4,
  "nbformat_minor": 0,
  "metadata": {
    "colab": {
      "provenance": [],
      "authorship_tag": "ABX9TyNcLT+opWBA9ZCKZ6esGwJv",
      "include_colab_link": true
    },
    "kernelspec": {
      "name": "python3",
      "display_name": "Python 3"
    },
    "language_info": {
      "name": "python"
    }
  },
  "cells": [
    {
      "cell_type": "markdown",
      "metadata": {
        "id": "view-in-github",
        "colab_type": "text"
      },
      "source": [
        "<a href=\"https://colab.research.google.com/github/themysterysolver/QR-CIP/blob/main/CODE/PHASE_1_REFINED.ipynb\" target=\"_parent\"><img src=\"https://colab.research.google.com/assets/colab-badge.svg\" alt=\"Open In Colab\"/></a>"
      ]
    },
    {
      "cell_type": "code",
      "execution_count": null,
      "metadata": {
        "id": "ihHkgKTikc8s"
      },
      "outputs": [],
      "source": [
        "!pip install numpy matplotlib opencv-python qrcode[pil] pycryptodome pillow"
      ]
    },
    {
      "cell_type": "code",
      "source": [
        "import numpy as np\n",
        "import matplotlib.pyplot as plt\n",
        "import cv2\n",
        "import qrcode\n",
        "import hashlib"
      ],
      "metadata": {
        "id": "og6EYhqykmY9"
      },
      "execution_count": 6,
      "outputs": []
    },
    {
      "cell_type": "markdown",
      "source": [
        "- `cv2` is a part of *openCV* ***computer vision library***"
      ],
      "metadata": {
        "id": "TdndMI-qk5_G"
      }
    },
    {
      "cell_type": "code",
      "source": [
        "def sha256_to_float(seed_string):\n",
        "    hash_digest = hashlib.sha256(seed_string.encode()).hexdigest()\n",
        "    print(hash_digest)\n",
        "    hash_n = hash_digest[:16]\n",
        "    return int(hash_n, 16) / 2**64"
      ],
      "metadata": {
        "id": "MGmhNntjBeMF"
      },
      "execution_count": 7,
      "outputs": []
    },
    {
      "cell_type": "code",
      "source": [
        "def lss_permutation(seed_string, n, r=3.9, s=3.0):#s is amplitutde,r-is logistic growth rate,pi-freq paramaeter\n",
        "    x = sha256_to_float(seed_string)\n",
        "    seq=[0]*n\n",
        "    seq[0]=x\n",
        "    for i in range(1,n):\n",
        "      seq[i]=((r*seq[i-1]*(1-seq[i-1])) + s*np.sin(np.pi*seq[i-1]))%1\n",
        "    permu_seq=np.argsort(seq)\n",
        "    return np.array(permu_seq)"
      ],
      "metadata": {
        "id": "aER69Jc5mc9j"
      },
      "execution_count": 8,
      "outputs": []
    },
    {
      "cell_type": "code",
      "source": [
        "def crop_qr_border(img):\n",
        "    gray = cv2.cvtColor(img, cv2.COLOR_BGR2GRAY)\n",
        "    _, thresh = cv2.threshold(gray, 127, 255, cv2.THRESH_BINARY_INV)\n",
        "    contours, _ = cv2.findContours(thresh, cv2.RETR_EXTERNAL, cv2.CHAIN_APPROX_SIMPLE)\n",
        "    if not contours:\n",
        "        return img  # If no contours found, return the original image\n",
        "    cnt = max(contours, key=cv2.contourArea)\n",
        "    x, y, w, h = cv2.boundingRect(cnt)\n",
        "    margin = 5\n",
        "    x = max(0, x - margin)\n",
        "    y = max(0, y - margin)\n",
        "    w = min(img.shape[1] - x, w + 2 * margin)\n",
        "    h = min(img.shape[0] - y, h + 2 * margin)\n",
        "    return img[y:y+h, x:x+w]"
      ],
      "metadata": {
        "id": "dDVSUZ6AxExX"
      },
      "execution_count": 11,
      "outputs": []
    },
    {
      "cell_type": "code",
      "source": [
        "def divide_qr(img):\n",
        "    if img.shape[0] % 4 != 0 or img.shape[1] % 4 != 0:\n",
        "        img = cv2.resize(img, (400, 400))\n",
        "    block_size = img.shape[0] // 4\n",
        "    return np.array([img[i * block_size:(i + 1) * block_size, j * block_size:(j + 1) * block_size] for i in range(4) for j in range(4)])"
      ],
      "metadata": {
        "id": "8Ls5O6VPzbhs"
      },
      "execution_count": 15,
      "outputs": []
    },
    {
      "cell_type": "code",
      "source": [
        "def scramble_qr(blocks, permutation):\n",
        "    return blocks[permutation.tolist()] #converts into list"
      ],
      "metadata": {
        "id": "wrjueN83z2fp"
      },
      "execution_count": 16,
      "outputs": []
    },
    {
      "cell_type": "code",
      "source": [
        "def rebuild_matrix(blocks):\n",
        "    return np.vstack([np.hstack(blocks[i * 4:(i + 1) * 4]) for i in range(4)])"
      ],
      "metadata": {
        "id": "TDF8Hb480LBX"
      },
      "execution_count": 17,
      "outputs": []
    },
    {
      "cell_type": "code",
      "source": [
        "if __name__ == \"__main__\":\n",
        "    sha256_input = input(\"Enter a string for SHA-256-based permutation:\")\n",
        "    n=16\n",
        "    permutation=lss_permutation(sha256_input,n)\n",
        "    print(permutation)\n",
        "\n",
        "    qr_input = input(\"Enter a string to generate a QR code: \")\n",
        "    qr=qrcode.make(qr_input)\n",
        "    qr.save(\"qr_code.png\")\n",
        "\n",
        "    img=cv2.imread(\"qr_code.png\")\n",
        "    print(img.shape)\n",
        "\n",
        "    img = crop_qr_border(img)\n",
        "    print(img.shape)\n",
        "\n",
        "    img = cv2.resize(img, (400, 400))\n",
        "    print(img.shape)\n",
        "\n",
        "    divided_blocks = divide_qr(img)\n",
        "    print(divided_blocks.shape)\n",
        "\n",
        "    scrambled_blocks = scramble_qr(divided_blocks, permutation)\n",
        "    print(scrambled_blocks.shape)\n",
        "\n",
        "    scrambled_qr = rebuild_matrix(scrambled_blocks)\n",
        "    print(scrambled_qr.shape)\n",
        "\n",
        ""
      ],
      "metadata": {
        "colab": {
          "base_uri": "https://localhost:8080/"
        },
        "id": "PkaAptbWlRbh",
        "outputId": "58f6516b-124b-4c0e-8582-8c288bf901f2"
      },
      "execution_count": 19,
      "outputs": [
        {
          "output_type": "stream",
          "name": "stdout",
          "text": [
            "Enter a string for SHA-256-based permutation:hello\n",
            "2cf24dba5fb0a30e26e83b2ac5b9e29e1b161e5c1fa7425e73043362938b9824\n",
            "[ 6  1  0 13  3 14  7  4 10 15  8 11  2 12  5  9]\n",
            "Enter a string to generate a QR code: wow\n",
            "(290, 290, 3)\n",
            "(220, 210, 3)\n",
            "(400, 400, 3)\n",
            "(16, 100, 100, 3)\n",
            "(16, 100, 100, 3)\n",
            "(400, 400, 3)\n"
          ]
        }
      ]
    },
    {
      "cell_type": "markdown",
      "source": [
        "- That's how a `290*290*3` array look like,290 rows and column with 3 cols each for ***rgb***\n",
        "```\n",
        "[\n",
        "  [[255, 255, 255], [255, 255, 255], [255, 255, 255], ..., [255, 255, 255]],\n",
        "  [[255, 255, 255], [0, 0, 0], [0, 0, 0], ..., [255, 255, 255]],\n",
        "  [[255, 255, 255], [0, 0, 0], [0, 0, 0], ..., [255, 255, 255]],\n",
        "  ...,\n",
        "  [[255, 255, 255], [0, 0, 0], [0, 0, 0], ..., [255, 255, 255]]\n",
        "]\n",
        "```"
      ],
      "metadata": {
        "id": "MRRMzoohwdoc"
      }
    },
    {
      "cell_type": "code",
      "source": [],
      "metadata": {
        "id": "q6B5gUmqnMZn"
      },
      "execution_count": null,
      "outputs": []
    }
  ]
}