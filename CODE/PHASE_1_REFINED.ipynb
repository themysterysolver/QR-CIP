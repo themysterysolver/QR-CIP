{
  "nbformat": 4,
  "nbformat_minor": 0,
  "metadata": {
    "colab": {
      "provenance": [],
      "authorship_tag": "ABX9TyPj9znKdCp1OjoipdbSleeh",
      "include_colab_link": true
    },
    "kernelspec": {
      "name": "python3",
      "display_name": "Python 3"
    },
    "language_info": {
      "name": "python"
    }
  },
  "cells": [
    {
      "cell_type": "markdown",
      "metadata": {
        "id": "view-in-github",
        "colab_type": "text"
      },
      "source": [
        "<a href=\"https://colab.research.google.com/github/themysterysolver/QR-CIP/blob/main/CODE/PHASE_1_REFINED.ipynb\" target=\"_parent\"><img src=\"https://colab.research.google.com/assets/colab-badge.svg\" alt=\"Open In Colab\"/></a>"
      ]
    },
    {
      "cell_type": "code",
      "execution_count": null,
      "metadata": {
        "id": "ihHkgKTikc8s"
      },
      "outputs": [],
      "source": [
        "!pip install numpy matplotlib opencv-python qrcode[pil] pycryptodome pillow"
      ]
    },
    {
      "cell_type": "code",
      "source": [
        "import numpy as np\n",
        "import matplotlib.pyplot as plt\n",
        "import cv2\n",
        "import qrcode\n",
        "import hashlib"
      ],
      "metadata": {
        "id": "og6EYhqykmY9"
      },
      "execution_count": 2,
      "outputs": []
    },
    {
      "cell_type": "markdown",
      "source": [
        "- `cv2` is a part of *openCV* ***computer vision library***"
      ],
      "metadata": {
        "id": "TdndMI-qk5_G"
      }
    },
    {
      "cell_type": "code",
      "source": [
        "def sha256_to_float(seed_string):\n",
        "    hash_digest = hashlib.sha256(seed_string.encode()).hexdigest()\n",
        "    print(hash_digest)\n",
        "    hash_n = hash_digest[:16]\n",
        "    return int(hash_n, 16) / 2**64"
      ],
      "metadata": {
        "id": "MGmhNntjBeMF"
      },
      "execution_count": 3,
      "outputs": []
    },
    {
      "cell_type": "code",
      "source": [
        "def lss_permutation(seed_string, n, r=3.9, s=3.0):#s is amplitutde,r-is logistic growth rate,pi-freq paramaeter\n",
        "    x = sha256_to_float(seed_string)\n",
        "    seq=[0]*n\n",
        "    seq[0]=x\n",
        "    for i in range(1,n):\n",
        "      seq[i]=((r*seq[i-1]*(1-seq[i-1])) + s*np.sin(np.pi*seq[i-1]))%1\n",
        "    permu_seq=np.argsort(seq)\n",
        "    return np.array(permu_seq)"
      ],
      "metadata": {
        "id": "aER69Jc5mc9j"
      },
      "execution_count": 4,
      "outputs": []
    },
    {
      "cell_type": "code",
      "source": [
        "def crop_qr_border(img):\n",
        "    gray = cv2.cvtColor(img, cv2.COLOR_BGR2GRAY)\n",
        "    _, thresh = cv2.threshold(gray, 127, 255, cv2.THRESH_BINARY_INV)\n",
        "    contours, _ = cv2.findContours(thresh, cv2.RETR_EXTERNAL, cv2.CHAIN_APPROX_SIMPLE)\n",
        "    if not contours:\n",
        "        return img  # If no contours found, return the original image\n",
        "    cnt = max(contours, key=cv2.contourArea)\n",
        "    x, y, w, h = cv2.boundingRect(cnt)\n",
        "    margin = 5\n",
        "    x = max(0, x - margin)\n",
        "    y = max(0, y - margin)\n",
        "    w = min(img.shape[1] - x, w + 2 * margin)\n",
        "    h = min(img.shape[0] - y, h + 2 * margin)\n",
        "    return img[y:y+h, x:x+w]"
      ],
      "metadata": {
        "id": "dDVSUZ6AxExX"
      },
      "execution_count": 5,
      "outputs": []
    },
    {
      "cell_type": "code",
      "source": [
        "def divide_qr(img):\n",
        "    if img.shape[0] % 4 != 0 or img.shape[1] % 4 != 0:\n",
        "        img = cv2.resize(img, (400, 400))\n",
        "    block_size = img.shape[0] // 4\n",
        "    return np.array([img[i * block_size:(i + 1) * block_size, j * block_size:(j + 1) * block_size] for i in range(4) for j in range(4)])"
      ],
      "metadata": {
        "id": "8Ls5O6VPzbhs"
      },
      "execution_count": 6,
      "outputs": []
    },
    {
      "cell_type": "code",
      "source": [
        "def scramble_qr(blocks, permutation):\n",
        "    return blocks[permutation.tolist()] #converts into list"
      ],
      "metadata": {
        "id": "wrjueN83z2fp"
      },
      "execution_count": 7,
      "outputs": []
    },
    {
      "cell_type": "code",
      "source": [
        "def rebuild_matrix(blocks):\n",
        "    return np.vstack([np.hstack(blocks[i * 4:(i + 1) * 4]) for i in range(4)])"
      ],
      "metadata": {
        "id": "TDF8Hb480LBX"
      },
      "execution_count": 8,
      "outputs": []
    },
    {
      "cell_type": "code",
      "source": [
        "from Crypto.Cipher import AES\n",
        "from Crypto.Util.Padding import pad, unpad"
      ],
      "metadata": {
        "id": "BwJT0a-C3QZB"
      },
      "execution_count": 9,
      "outputs": []
    },
    {
      "cell_type": "markdown",
      "source": [
        "### AES\n",
        "- (AES) **Advanced encryption Standard**\n",
        "- AES works only on bytes\n",
        "- `IV` is *iniialization vector*\n",
        "- `CBC` is *cyber block chaining*\n",
        "  - AES works with fixed-size blocks of `16 bytes` (128 bits).\n",
        "  - if greater than that exist,it happens ***multiple rounds*** dividing into multiple *16byte block* .\n",
        "\n",
        "<br>\n",
        "\n",
        "- AES does XOR of plain text and previous $c_i$\n",
        "- Encryption\n",
        "$C_i = E_k ( P_i \\oplus C_{i-1} )$\n",
        "- when **no 1st** block\n",
        "$C_1 = E_k ( P_1 \\oplus IV )$\n",
        "- Decrytption\n",
        "$P_i = D_k ( C_i ) \\oplus C_{i-1}$\n",
        "- when no 1st block\n",
        "$P_1 = D_k ( C_1 ) \\oplus IV$\n",
        "\n",
        "<br>\n",
        "\n",
        "- AES I/P:\n",
        "  - Plaintext (original data)\n",
        "  - Secret key (16, 24, or 32 bytes)\n",
        "  - Encryption process → Produces ciphertext (unreadable data)\n",
        "  - Decryption process → Converts ciphertext back to plaintext using the same key.\n",
        "<br>\n",
        "\n",
        "## O/P\n",
        "```\n",
        "[ IV (16 bytes) ] + [ Encrypted Data (multiple of 16 bytes) ]\n",
        "\n",
        "```"
      ],
      "metadata": {
        "id": "N5UKSpXb3prK"
      }
    },
    {
      "cell_type": "code",
      "source": [
        "def encrypt_aes(data, key):\n",
        "    cipher = AES.new(key, AES.MODE_CBC)\n",
        "    ct_bytes = cipher.encrypt(pad(data, AES.block_size))\n",
        "    return cipher.iv + ct_bytes"
      ],
      "metadata": {
        "id": "06VS-OXV3JvZ"
      },
      "execution_count": 10,
      "outputs": []
    },
    {
      "cell_type": "code",
      "source": [
        "def generate_shares(encrypted_data, n, k):\n",
        "    shares = [np.random.randint(0, 256, size=len(encrypted_data), dtype=np.uint8) for _ in range(n-1)]\n",
        "    last_share = np.frombuffer(encrypted_data, dtype=np.uint8).copy()\n",
        "    for share in shares:\n",
        "        last_share ^= share\n",
        "    shares.append(last_share)\n",
        "    return shares"
      ],
      "metadata": {
        "id": "y5v6bC8mAaRr"
      },
      "execution_count": 14,
      "outputs": []
    },
    {
      "cell_type": "code",
      "source": [
        "def display_images(qr_image, shares, reconstructed_image, title_prefix=\"\"):\n",
        "    fig, axes = plt.subplots(1, len(shares), figsize=(15, 5))\n",
        "    for i, share in enumerate(shares):\n",
        "        share_size = int(np.ceil(np.sqrt(len(share))))\n",
        "        padded_size = share_size * share_size\n",
        "        if len(share) < padded_size:\n",
        "            share_padded = np.pad(share, (0, padded_size - len(share)), mode='constant')\n",
        "        else:\n",
        "            share_padded = share[:padded_size]\n",
        "        share_2d = share_padded.reshape((share_size, share_size))\n",
        "        axes[i].imshow(share_2d, cmap='gray')\n",
        "        axes[i].set_title(f'{title_prefix} Share {i + 1}')\n",
        "        axes[i].axis('off')\n",
        "    plt.show()\n"
      ],
      "metadata": {
        "id": "kgKRr2wjtOQ1"
      },
      "execution_count": 18,
      "outputs": []
    },
    {
      "cell_type": "code",
      "source": [
        "def reconstruct_image(shares):\n",
        "    return np.bitwise_xor.reduce(shares).tobytes()"
      ],
      "metadata": {
        "id": "1tEIPzFPtHXG"
      },
      "execution_count": 19,
      "outputs": []
    },
    {
      "cell_type": "code",
      "source": [
        "def descramble_qr(blocks, permutation):\n",
        "    inverse_perm = np.argsort(permutation)\n",
        "    return blocks[inverse_perm.tolist()]"
      ],
      "metadata": {
        "id": "xPcCNIe9z0zY"
      },
      "execution_count": 23,
      "outputs": []
    },
    {
      "cell_type": "code",
      "source": [
        "def decrypt_aes(encrypted_data, key):\n",
        "    iv = encrypted_data[:AES.block_size]\n",
        "    ct = encrypted_data[AES.block_size:]\n",
        "    cipher = AES.new(key, AES.MODE_CBC, iv)\n",
        "    return unpad(cipher.decrypt(ct), AES.block_size)"
      ],
      "metadata": {
        "id": "yKnj5n0Pz6FA"
      },
      "execution_count": 24,
      "outputs": []
    },
    {
      "cell_type": "code",
      "source": [
        "if __name__ == \"__main__\":\n",
        "    sha256_input = input(\"Enter a string for SHA-256-based permutation:\")\n",
        "    n=16\n",
        "    permutation=lss_permutation(sha256_input,n)\n",
        "    print(permutation)\n",
        "\n",
        "    qr_input = input(\"Enter a string to generate a QR code: \")\n",
        "    qr=qrcode.make(qr_input)\n",
        "    qr.save(\"qr_code.png\")\n",
        "\n",
        "    img=cv2.imread(\"qr_code.png\")\n",
        "    print(img.shape)\n",
        "\n",
        "    img = crop_qr_border(img)\n",
        "    print(img.shape)\n",
        "\n",
        "    img = cv2.resize(img, (400, 400))\n",
        "    print(img.shape)\n",
        "\n",
        "    divided_blocks = divide_qr(img)\n",
        "    print(divided_blocks.shape)\n",
        "\n",
        "    scrambled_blocks = scramble_qr(divided_blocks, permutation)\n",
        "    print(scrambled_blocks.shape)\n",
        "\n",
        "    scrambled_qr = rebuild_matrix(scrambled_blocks)\n",
        "    print(scrambled_qr.shape)\n",
        "\n",
        "    print(\"QR Code:\")\n",
        "    plt.imshow(img, cmap='gray')\n",
        "    plt.title(\"QR Code\")\n",
        "    plt.axis('off')\n",
        "    plt.show()\n",
        "\n",
        "    print(\"Scrambled QR Code:\")\n",
        "    plt.imshow(scrambled_qr, cmap='gray')\n",
        "    plt.title(\"Scrambled QR Code\")\n",
        "    plt.axis('off')\n",
        "    plt.show()\n",
        "\n",
        "    hash_digest = hashlib.sha256(qr_input.encode()).digest() #256-bits (32bytes)\n",
        "    aes_key=hash_digest[:]\n",
        "    print('aes_key:',hash_digest)\n",
        "    encrypted_qr=encrypt_aes(scrambled_qr.tobytes(),hash_digest)#O/P:byes\n",
        "\n",
        "    print(\"AES-Encrypted Scrambled QR Code:\")\n",
        "    encrypted_qr_array = np.frombuffer(encrypted_qr, dtype=np.uint8) #bytes->numpy array of uint8\n",
        "    encrypted_qr_2d = encrypted_qr_array[:400*400].reshape((400, 400))  # Reshape to 2D for visualization\n",
        "    plt.imshow(encrypted_qr_2d, cmap='gray')\n",
        "    plt.title(\"AES-Encrypted Scrambled QR Code\")\n",
        "    plt.axis('off')\n",
        "    plt.show()\n",
        "\n",
        "    try:\n",
        "        share_size = int(input(\"Input the number of shares images you want to create for encrypting (min is 2, max is 8): \"))\n",
        "        if share_size < 2 or share_size > 8:\n",
        "            raise ValueError\n",
        "    except ValueError:\n",
        "        print(\"Input is not a valid integer!\")\n",
        "        exit(0)\n",
        "\n",
        "    shares = generate_shares(encrypted_qr, share_size, share_size)\n",
        "    print(\"Shares:\")\n",
        "    display_images(scrambled_qr, shares, scrambled_qr, \"Scrambled\")\n",
        "    reconstructed_encrypted_qr = reconstruct_image(shares)\n",
        "\n",
        "    print(\"AES-Encrypted Image After XORing Shares:\")\n",
        "    reconstructed_encrypted_qr_2d = np.frombuffer(reconstructed_encrypted_qr, dtype=np.uint8)[:400*400].reshape((400, 400))\n",
        "    plt.imshow(reconstructed_encrypted_qr_2d, cmap='gray')\n",
        "    plt.title(\"AES-Encrypted Image After XORing Shares\")\n",
        "    plt.axis('off')\n",
        "    plt.show()\n",
        "\n",
        "    sha256_input_verify = input(\"Enter the SHA-256-based password again to reconstruct the QR code: \")\n",
        "    if sha256_input_verify == sha256_input:\n",
        "        print(\"Password verified. Reconstructing the QR code...\")\n",
        "\n",
        "        decrypted_qr = decrypt_aes(reconstructed_encrypted_qr, aes_key)\n",
        "        print(decrypted_qr)\n",
        "\n",
        "        decrypted_qr_array = np.frombuffer(decrypted_qr, dtype=np.uint8).reshape(scrambled_qr.shape)\n",
        "        print(decrypted_qr_array,decrypted_qr_array.shape)\n",
        "\n",
        "        print(\"Scrambled QR Code from AES:\")\n",
        "        plt.imshow(decrypted_qr_array, cmap='gray')\n",
        "        plt.title(\"Scrambled QR Code from AES\")\n",
        "        plt.axis('off')\n",
        "        plt.show()\n",
        "\n",
        "        descrambled_blocks = descramble_qr(divide_qr(decrypted_qr_array), permutation)\n",
        "        descrambled_qr = rebuild_matrix(descrambled_blocks)\n",
        "\n",
        "        print(\"Descrambled QR Code:\")\n",
        "        plt.imshow(descrambled_qr, cmap='gray')\n",
        "        plt.title(\"Descrambled QR Code\")\n",
        "        plt.axis('off')\n",
        "        plt.show()\n"
      ],
      "metadata": {
        "id": "PkaAptbWlRbh"
      },
      "execution_count": null,
      "outputs": []
    },
    {
      "cell_type": "markdown",
      "source": [
        "- That's how a `290*290*3` array look like,290 rows and column with 3 cols each for ***rgb***\n",
        "```\n",
        "[\n",
        "  [[255, 255, 255], [255, 255, 255], [255, 255, 255], ..., [255, 255, 255]],\n",
        "  [[255, 255, 255], [0, 0, 0], [0, 0, 0], ..., [255, 255, 255]],\n",
        "  [[255, 255, 255], [0, 0, 0], [0, 0, 0], ..., [255, 255, 255]],\n",
        "  ...,\n",
        "  [[255, 255, 255], [0, 0, 0], [0, 0, 0], ..., [255, 255, 255]]\n",
        "]\n",
        "```"
      ],
      "metadata": {
        "id": "MRRMzoohwdoc"
      }
    },
    {
      "cell_type": "code",
      "source": [],
      "metadata": {
        "id": "q6B5gUmqnMZn"
      },
      "execution_count": null,
      "outputs": []
    }
  ]
}