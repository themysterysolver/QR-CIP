{
  "nbformat": 4,
  "nbformat_minor": 0,
  "metadata": {
    "colab": {
      "provenance": [],
      "authorship_tag": "ABX9TyM5FhffMd6BmRleqm3d56mg",
      "include_colab_link": true
    },
    "kernelspec": {
      "name": "python3",
      "display_name": "Python 3"
    },
    "language_info": {
      "name": "python"
    }
  },
  "cells": [
    {
      "cell_type": "markdown",
      "metadata": {
        "id": "view-in-github",
        "colab_type": "text"
      },
      "source": [
        "<a href=\"https://colab.research.google.com/github/themysterysolver/QR-CIP/blob/main/CODE/PHASE_1_REFINED.ipynb\" target=\"_parent\"><img src=\"https://colab.research.google.com/assets/colab-badge.svg\" alt=\"Open In Colab\"/></a>"
      ]
    },
    {
      "cell_type": "code",
      "execution_count": null,
      "metadata": {
        "id": "ihHkgKTikc8s"
      },
      "outputs": [],
      "source": [
        "!pip install numpy matplotlib opencv-python qrcode[pil] pycryptodome pillow"
      ]
    },
    {
      "cell_type": "code",
      "source": [
        "import numpy as np\n",
        "import matplotlib.pyplot as plt\n",
        "import cv2\n",
        "import qrcode\n",
        "import hashlib"
      ],
      "metadata": {
        "id": "og6EYhqykmY9"
      },
      "execution_count": 5,
      "outputs": []
    },
    {
      "cell_type": "markdown",
      "source": [
        "- `cv2` is a part of *openCV* ***computer vision library***"
      ],
      "metadata": {
        "id": "TdndMI-qk5_G"
      }
    },
    {
      "cell_type": "code",
      "source": [
        "def sha256_to_float(seed_string):\n",
        "    hash_digest = hashlib.sha256(seed_string.encode()).hexdigest()\n",
        "    hash_n = hash_digest[:16]\n",
        "    return int(hash_n, 16) / 2**64"
      ],
      "metadata": {
        "id": "MGmhNntjBeMF"
      },
      "execution_count": 6,
      "outputs": []
    },
    {
      "cell_type": "code",
      "source": [
        "def lss_permutation(seed_string, n, r=3.9, s=3.0):\n",
        "    x = sha256_to_float(seed_string)\n",
        "    seq=[0]*n\n",
        "    seq[0]=x\n",
        "    for i in range(1,n):\n",
        "      seq[i]=((r*seq[i-1]*(1-seq[i-1])) + s*np.sin(np.pi*seq[i-1]))%1\n",
        "    permu_seq=np.argsort(seq)\n",
        "    return np.array(permu_seq)"
      ],
      "metadata": {
        "id": "aER69Jc5mc9j"
      },
      "execution_count": 13,
      "outputs": []
    },
    {
      "cell_type": "code",
      "source": [
        "if __name__ == \"__main__\":\n",
        "    sha256_input = input(\"Enter a string for SHA-256-based permutation:\")\n",
        "    n=16\n",
        "    permutation=lss_permutation(sha256_input,n)\n",
        "    print(permutation)"
      ],
      "metadata": {
        "colab": {
          "base_uri": "https://localhost:8080/"
        },
        "id": "PkaAptbWlRbh",
        "outputId": "6e1107c1-6b8a-43a0-cf24-e9eee13bea92"
      },
      "execution_count": 14,
      "outputs": [
        {
          "output_type": "stream",
          "name": "stdout",
          "text": [
            "Enter a string for SHA-256-based permutation:hello\n",
            "[ 6  1  0 13  3 14  7  4 10 15  8 11  2 12  5  9]\n"
          ]
        }
      ]
    },
    {
      "cell_type": "code",
      "source": [],
      "metadata": {
        "id": "q6B5gUmqnMZn"
      },
      "execution_count": 12,
      "outputs": []
    }
  ]
}